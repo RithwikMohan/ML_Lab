{
  "nbformat": 4,
  "nbformat_minor": 0,
  "metadata": {
    "colab": {
      "provenance": [],
      "mount_file_id": "1_ch6LpTmlCbeIqc6JsVeHgX0hogrcu35",
      "authorship_tag": "ABX9TyNpgR9Lk2QYYxCELDXfxlQR",
      "include_colab_link": true
    },
    "kernelspec": {
      "name": "python3",
      "display_name": "Python 3"
    },
    "language_info": {
      "name": "python"
    }
  },
  "cells": [
    {
      "cell_type": "markdown",
      "metadata": {
        "id": "view-in-github",
        "colab_type": "text"
      },
      "source": [
        "<a href=\"https://colab.research.google.com/github/RithwikMohan/ML_Lab/blob/main/Gradientdescent.ipynb\" target=\"_parent\"><img src=\"https://colab.research.google.com/assets/colab-badge.svg\" alt=\"Open In Colab\"/></a>"
      ]
    },
    {
      "cell_type": "markdown",
      "source": [
        "Apply Gradient descent for linear regression on a house price prediction dataset with different learning rates and iterations(epochs)"
      ],
      "metadata": {
        "id": "K99PJcd6sXxw"
      }
    },
    {
      "cell_type": "code",
      "execution_count": 12,
      "metadata": {
        "colab": {
          "base_uri": "https://localhost:8080/",
          "height": 1000
        },
        "id": "9d-XcclptDR7",
        "outputId": "a7530715-231b-413f-ddfc-6b6c07fd67dc"
      },
      "outputs": [
        {
          "output_type": "display_data",
          "data": {
            "text/plain": [
              "<Figure size 640x480 with 1 Axes>"
            ],
            "image/png": "[encoded data removed]"
          },
          "metadata": {}
        },
        {
          "output_type": "stream",
          "name": "stdout",
          "text": [
            "Learned parameters (theta): [[ 9818.75831595]\n",
            " [  292.54305474]\n",
            " [-1294.50176791]\n",
            " [  230.98223689]\n",
            " [-1025.46245822]\n",
            " [ -341.95041309]\n",
            " [ -465.07234961]\n",
            " [   42.39687597]\n",
            " [  -66.11496259]\n",
            " [ -141.90789056]\n",
            " [  -82.2391738 ]\n",
            " [ -230.16507246]\n",
            " [ -404.52943101]\n",
            " [ 1504.27713819]\n",
            " [ -425.41326123]\n",
            " [ -196.24038559]\n",
            " [  844.90669463]\n",
            " [  161.31707071]\n",
            " [  -68.62130569]\n",
            " [  153.05568159]\n",
            " [  522.29270315]\n",
            " [  280.34138466]\n",
            " [ -385.06184196]\n",
            " [  188.12521092]\n",
            " [  368.28703543]\n",
            " [ -294.29262955]\n",
            " [  237.84068049]\n",
            " [  766.51499422]\n",
            " [  262.41678884]\n",
            " [   87.68462263]\n",
            " [  370.75172539]\n",
            " [  -17.9920389 ]\n",
            " [   51.21864176]\n",
            " [  197.17858349]\n",
            " [  251.76354968]\n",
            " [ -163.41974282]\n",
            " [   18.17569708]]\n",
            "\n",
            "Mean Squared Errors:\n",
            "Linear Regression: 12743309.304462148\n",
            "Ridge Regression: 12737377.787549585\n",
            "Lasso Regression: 12742578.561456183\n",
            "\n",
            "Coefficients:\n",
            "Linear: [[  526.70635353 -1181.96173885   397.39630898 -1176.57674945\n",
            "   -391.64367554  -682.39974449   125.75290488    26.86483344\n",
            "   -184.73844813  -259.58556106  -273.06128795  -562.21727181\n",
            "   1610.13245763  -455.52460134  -165.50037444   910.71479378\n",
            "    139.41254848   -37.38708704   308.47718612   525.98798173\n",
            "    309.27547098  -531.08858035   166.53349774   279.95525412\n",
            "   -248.01604071   -77.03230049  1163.75247814   366.35924145\n",
            "    144.86795167    41.23241842   -18.5188671     25.16137391\n",
            "    106.95412059   174.12311733  -218.51701135   300.49380138]]\n",
            "Ridge: [  510.47532786 -1181.37437718   397.82911115 -1174.0386739\n",
            "  -390.80997921  -680.67590022   124.34058251    26.70141077\n",
            "  -183.07941165  -258.73135341  -272.42701021  -559.54899752\n",
            "  1606.57132985  -453.64548933  -165.06503337   909.46188135\n",
            "   138.1684906    -37.5319719    306.23676722   523.81807848\n",
            "   309.2639372   -529.1123898    166.82801557   280.10537754\n",
            "  -247.7370534    -72.44341007  1157.57039161   366.41572302\n",
            "   145.30070329    41.78817471   -18.33610338    25.77415226\n",
            "   107.55674852   174.36497921  -218.24983014   284.53235025]\n",
            "Lasso: [  522.08818413 -1181.9102757    397.41901853 -1176.45866689\n",
            "  -391.36968841  -681.99889721   125.35375803    26.5788521\n",
            "     0.          -187.799278     -95.66229683  -741.79730994\n",
            "  2040.9961041      0.          -117.69640309   385.62748247\n",
            "   139.17757947   -37.2569829    307.86161759   525.67827341\n",
            "   309.1474864   -530.67215966   166.225621     279.84158605\n",
            "  -248.00220996   -76.08361704  1162.69973202   366.34619801\n",
            "   144.84381338    41.17702382   -18.43793256    25.11374365\n",
            "   106.87288848   174.07149433  -218.50123795   295.88746854]\n"
          ]
        }
      ],
      "source": [
        "import pandas as pd\n",
        "import numpy as np\n",
        "import matplotlib.pyplot as plt\n",
        "from sklearn.model_selection import train_test_split\n",
        "from sklearn.preprocessing import StandardScaler, PolynomialFeatures\n",
        "from sklearn.linear_model import LinearRegression, Ridge, Lasso\n",
        "from sklearn.metrics import mean_squared_error\n",
        "\n",
        "# Step 1: Load dataset\n",
        "data = pd.read_csv('/content/drive/MyDrive/Datasets/house_price_test.csv')\n",
        "\n",
        "# Step 2: Select features and target\n",
        "# We'll take numeric columns except 'LotArea' as features\n",
        "features = data.select_dtypes(include=np.number).columns.tolist()\n",
        "features.remove('LotArea')  # remove target\n",
        "X = data[features].fillna(0).values  # replace missing with 0\n",
        "y = data['LotArea'].values.reshape(-1,1)  # target\n",
        "\n",
        "# Step 3: Normalize features\n",
        "scaler = StandardScaler()\n",
        "X_scaled = scaler.fit_transform(X)\n",
        "\n",
        "# Add bias term for gradient descent\n",
        "X_b = np.c_[np.ones((X_scaled.shape[0],1)), X_scaled]\n",
        "\n",
        "# Step 4: Gradient Descent function\n",
        "def gradient_descent(X, y, lr=0.01, n_epochs=500):\n",
        "    m = len(y)\n",
        "    theta = np.random.randn(X.shape[1], 1)\n",
        "    cost_history = []\n",
        "\n",
        "    for epoch in range(n_epochs):\n",
        "        gradients = (2/m) * X.T.dot(X.dot(theta) - y)\n",
        "        theta = theta - lr * gradients\n",
        "        cost_history.append(np.mean((X.dot(theta) - y)**2))\n",
        "\n",
        "    return theta, cost_history\n",
        "\n",
        "# Run gradient descent\n",
        "theta, cost_history = gradient_descent(X_b, y, lr=0.01, n_epochs=500)\n",
        "\n",
        "# Plot convergence\n",
        "plt.plot(cost_history)\n",
        "plt.title(\"Gradient Descent Convergence\")\n",
        "plt.xlabel(\"Epochs\")\n",
        "plt.ylabel(\"MSE\")\n",
        "plt.show()\n",
        "\n",
        "print(\"Learned parameters (theta):\", theta)\n",
        "\n",
        "# Step 5: Regularization (Ridge & Lasso)\n",
        "# Split data\n",
        "X_train, X_test, y_train, y_test = train_test_split(X_scaled, y, test_size=0.3, random_state=42)\n",
        "\n",
        "# Linear, Ridge, Lasso\n",
        "lin_reg = LinearRegression().fit(X_train, y_train)\n",
        "ridge_reg = Ridge(alpha=1.0).fit(X_train, y_train)\n",
        "lasso_reg = Lasso(alpha=0.1, max_iter=10000).fit(X_train, y_train)\n",
        "\n",
        "# Predictions\n",
        "y_pred_lin = lin_reg.predict(X_test)\n",
        "y_pred_ridge = ridge_reg.predict(X_test)\n",
        "y_pred_lasso = lasso_reg.predict(X_test)\n",
        "\n",
        "# MSE\n",
        "print(\"\\nMean Squared Errors:\")\n",
        "print(\"Linear Regression:\", mean_squared_error(y_test, y_pred_lin))\n",
        "print(\"Ridge Regression:\", mean_squared_error(y_test, y_pred_ridge))\n",
        "print(\"Lasso Regression:\", mean_squared_error(y_test, y_pred_lasso))\n",
        "\n",
        "# Coefficients\n",
        "print(\"\\nCoefficients:\")\n",
        "print(\"Linear:\", lin_reg.coef_)\n",
        "print(\"Ridge:\", ridge_reg.coef_)\n",
        "print(\"Lasso:\", lasso_reg.coef_)\n"
      ]
    },
    {
      "cell_type": "markdown",
      "source": [
        "Demonstrate the use of Apply Regularization methods (LASSO and RIDGE) on nonlinear data and display the coefficient values and MSE to address the overfitting problem.\n"
      ],
      "metadata": {
        "id": "OOYDVyzfs2EF"
      }
    },
    {
      "cell_type": "code",
      "source": [
        "import pandas as pd\n",
        "from sklearn.model_selection import train_test_split\n",
        "from sklearn.preprocessing import StandardScaler, PolynomialFeatures\n",
        "from sklearn.linear_model import Ridge, Lasso\n",
        "from sklearn.metrics import mean_squared_error\n",
        "import numpy as np # Import numpy for median calculation\n",
        "\n",
        "# Load dataset\n",
        "file_path = '/content/drive/MyDrive/Datasets/house_price_test.csv'\n",
        "data = pd.read_csv(file_path)\n",
        "\n",
        "# Handle missing target (LotArea) - though we will use numerical features as X and LotArea as y\n",
        "# Let's assume we are predicting LotArea for this example.\n",
        "# We will fill missing LotArea values in the target variable\n",
        "data['LotArea'] = data['LotArea'].fillna(data['LotArea'].median())\n",
        "\n",
        "\n",
        "# Select numeric features and remove target 'LotArea' from features if it's included\n",
        "numeric_features = data.select_dtypes(include=np.number).columns.tolist()\n",
        "if 'LotArea' in numeric_features:\n",
        "    numeric_features.remove('LotArea')\n",
        "\n",
        "X = data[numeric_features].copy() # Create a copy to avoid SettingWithCopyWarning\n",
        "\n",
        "print(\"NaNs in X before filling:\", X.isnull().sum().sum())\n",
        "\n",
        "# Fill missing values in numerical features with the median of each column\n",
        "for col in X.columns:\n",
        "    X.loc[:, col] = X.loc[:, col].fillna(X.loc[:, col].median())\n",
        "\n",
        "print(\"NaNs in X after filling:\", X.isnull().sum().sum())\n",
        "\n",
        "# Standardize features\n",
        "scaler = StandardScaler()\n",
        "X_scaled = scaler.fit_transform(X)\n",
        "\n",
        "print(\"NaNs in X_scaled before PolynomialFeatures:\", np.isnan(X_scaled).sum())\n",
        "\n",
        "\n",
        "# Generate nonlinear features (Polynomial features)\n",
        "poly = PolynomialFeatures(degree=2, include_bias=False)\n",
        "X_poly = poly.fit_transform(X_scaled)\n",
        "\n",
        "# Split dataset\n",
        "X_train, X_test, y_train, y_test = train_test_split(X_poly, y, test_size=0.2, random_state=42)\n",
        "\n",
        "# -----------------------------\n",
        "# Ridge Regression\n",
        "ridge = Ridge(alpha=1.0)\n",
        "ridge.fit(X_train, y_train)\n",
        "y_pred_ridge = ridge.predict(X_test)\n",
        "mse_ridge = mean_squared_error(y_test, y_pred_ridge)\n",
        "\n",
        "# -----------------------------\n",
        "# Lasso Regression\n",
        "lasso = Lasso(alpha=0.1, max_iter=10000)\n",
        "lasso.fit(X_train, y_train)\n",
        "y_pred_lasso = lasso.predict(X_test) # Corrected from y_test to X_test\n",
        "mse_lasso = mean_squared_error(y_test, y_pred_lasso)\n",
        "\n",
        "# -----------------------------\n",
        "# Display results\n",
        "print(\"Ridge Regression:\")\n",
        "print(\"MSE:\", mse_ridge)\n",
        "print(\"Number of non-zero coefficients:\", (ridge.coef_ != 0).sum())\n",
        "\n",
        "print(\"\\nLasso Regression:\")\n",
        "print(\"MSE:\", mse_lasso)\n",
        "print(\"Number of non-zero coefficients:\", (lasso.coef_ != 0).sum())\n",
        "\n",
        "# Optional: Display first 10 coefficients for clarity\n",
        "print(\"\\nRidge Coefficients (first 10):\", ridge.coef_[:10])\n",
        "print(\"Lasso Coefficients (first 10):\", lasso.coef_[:10])"
      ],
      "metadata": {
        "colab": {
          "base_uri": "https://localhost:8080/"
        },
        "id": "BIxpD3-BsFCW",
        "outputId": "0b6c8def-33e1-45d8-86fd-1fd002ad6e2c"
      },
      "execution_count": 17,
      "outputs": [
        {
          "output_type": "stream",
          "name": "stdout",
          "text": [
            "NaNs in X before filling: 330\n",
            "NaNs in X after filling: 0\n",
            "NaNs in X_scaled before PolynomialFeatures: 0\n",
            "Ridge Regression:\n",
            "MSE: 23905241.53892813\n",
            "Number of non-zero coefficients: 702\n",
            "\n",
            "Lasso Regression:\n",
            "MSE: 32979383.665531028\n",
            "Number of non-zero coefficients: 618\n",
            "\n",
            "Ridge Coefficients (first 10): [  798.75826258 -1355.54566205   922.53566968    84.65311458\n",
            "  -727.27107014   855.7267001    435.03923373  -997.12955449\n",
            "   623.32847768  -435.66506853]\n",
            "Lasso Coefficients (first 10): [  667.42007735 -1511.20699132  1217.92622368    75.25465427\n",
            "  -643.11484118  1349.11873533   438.16358933  -989.28260645\n",
            "  1038.87209215  -230.03499866]\n"
          ]
        },
        {
          "output_type": "stream",
          "name": "stderr",
          "text": [
            "/usr/local/lib/python3.12/dist-packages/sklearn/linear_model/_coordinate_descent.py:695: ConvergenceWarning: Objective did not converge. You might want to increase the number of iterations, check the scale of the features or consider increasing regularisation. Duality gap: 1.898e+09, tolerance: 2.944e+06\n",
            "  model = cd_fast.enet_coordinate_descent(\n"
          ]
        }
      ]
    }
  ]
}