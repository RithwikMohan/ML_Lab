{
  "cells": [
    {
      "cell_type": "markdown",
      "metadata": {
        "id": "view-in-github",
        "colab_type": "text"
      },
      "source": [
        "<a href=\"https://colab.research.google.com/github/RithwikMohan/ML_Lab/blob/main/wrappermethods.ipynb\" target=\"_parent\"><img src=\"https://colab.research.google.com/assets/colab-badge.svg\" alt=\"Open In Colab\"/></a>"
      ]
    },
    {
      "cell_type": "code",
      "execution_count": null,
      "metadata": {
        "id": "tYu-lKDAvx2t",
        "colab": {
          "base_uri": "https://localhost:8080/"
        },
        "outputId": "e8535bff-2c42-444b-d92a-5b3cd3c9bbc3"
      },
      "outputs": [
        {
          "output_type": "stream",
          "name": "stdout",
          "text": [
            "Mounted at /content/drive\n"
          ]
        }
      ],
      "source": [
        "import pandas as pd\n",
        "import numpy as np\n",
        "from sklearn.model_selection import train_test_split\n",
        "from sklearn.feature_selection import VarianceThreshold\n",
        "import matplotlib.pyplot as plt\n",
        "import seaborn as sns\n",
        "from sklearn.feature_selection import mutual_info_classif, mutual_info_regression\n",
        "from sklearn.feature_selection import chi2\n",
        "from sklearn.feature_selection import f_classif\n",
        "from sklearn.preprocessing import LabelEncoder\n",
        "from sklearn.ensemble import RandomForestRegressor, RandomForestClassifier\n",
        "from sklearn.metrics import roc_auc_score\n",
        "from mlxtend.feature_selection import SequentialFeatureSelector as SFS\n",
        "from mlxtend.feature_selection import ExhaustiveFeatureSelector as EFS\n",
        "from sklearn.linear_model import LogisticRegression\n",
        "from google.colab import drive\n",
        "drive.mount('/content/drive')"
      ]
    },
    {
      "cell_type": "code",
      "execution_count": null,
      "metadata": {
        "id": "06ArG0XWSdOZ",
        "colab": {
          "base_uri": "https://localhost:8080/"
        },
        "outputId": "5462e7c3-4cd5-44e3-e873-2a134766e9ff"
      },
      "outputs": [
        {
          "output_type": "stream",
          "name": "stdout",
          "text": [
            "Drive already mounted at /content/drive; to attempt to forcibly remount, call drive.mount(\"/content/drive\", force_remount=True).\n"
          ]
        }
      ],
      "source": [
        "from google.colab import drive\n",
        "drive.mount('/content/drive')"
      ]
    },
    {
      "cell_type": "code",
      "execution_count": null,
      "metadata": {
        "id": "sjyajDC9YDw5",
        "colab": {
          "base_uri": "https://localhost:8080/"
        },
        "outputId": "53eb73d0-65ca-4e76-e629-91527914b70b"
      },
      "outputs": [
        {
          "output_type": "stream",
          "name": "stdout",
          "text": [
            "(1460, 81)\n",
            "Index(['Id', 'MSSubClass', 'MSZoning', 'LotFrontage', 'LotArea', 'Street',\n",
            "       'Alley', 'LotShape', 'LandContour', 'Utilities', 'LotConfig',\n",
            "       'LandSlope', 'Neighborhood', 'Condition1', 'Condition2', 'BldgType',\n",
            "       'HouseStyle', 'OverallQual', 'OverallCond', 'YearBuilt', 'YearRemodAdd',\n",
            "       'RoofStyle', 'RoofMatl', 'Exterior1st', 'Exterior2nd', 'MasVnrType',\n",
            "       'MasVnrArea', 'ExterQual', 'ExterCond', 'Foundation', 'BsmtQual',\n",
            "       'BsmtCond', 'BsmtExposure', 'BsmtFinType1', 'BsmtFinSF1',\n",
            "       'BsmtFinType2', 'BsmtFinSF2', 'BsmtUnfSF', 'TotalBsmtSF', 'Heating',\n",
            "       'HeatingQC', 'CentralAir', 'Electrical', '1stFlrSF', '2ndFlrSF',\n",
            "       'LowQualFinSF', 'GrLivArea', 'BsmtFullBath', 'BsmtHalfBath', 'FullBath',\n",
            "       'HalfBath', 'BedroomAbvGr', 'KitchenAbvGr', 'KitchenQual',\n",
            "       'TotRmsAbvGrd', 'Functional', 'Fireplaces', 'FireplaceQu', 'GarageType',\n",
            "       'GarageYrBlt', 'GarageFinish', 'GarageCars', 'GarageArea', 'GarageQual',\n",
            "       'GarageCond', 'PavedDrive', 'WoodDeckSF', 'OpenPorchSF',\n",
            "       'EnclosedPorch', '3SsnPorch', 'ScreenPorch', 'PoolArea', 'PoolQC',\n",
            "       'Fence', 'MiscFeature', 'MiscVal', 'MoSold', 'YrSold', 'SaleType',\n",
            "       'SaleCondition', 'SalePrice'],\n",
            "      dtype='object')\n"
          ]
        }
      ],
      "source": [
        "filepath2 = '/content/drive/MyDrive/Datasets/house_price_train.csv'\n",
        "df2 = pd.read_csv(filepath2)\n",
        "print(df2.shape)\n",
        "print(df2.columns)\n"
      ]
    },
    {
      "cell_type": "code",
      "execution_count": null,
      "metadata": {
        "id": "H6W0hlIfYYYa",
        "colab": {
          "base_uri": "https://localhost:8080/"
        },
        "outputId": "0718b03a-8f4a-49c3-da60-963d24dbfa53"
      },
      "outputs": [
        {
          "output_type": "stream",
          "name": "stdout",
          "text": [
            "(1022, 80)\n",
            "(438, 80)\n"
          ]
        }
      ],
      "source": [
        "from sklearn.model_selection import train_test_split\n",
        "\n",
        "x_train2, x_test2, y_train2, y_test2 = train_test_split(\n",
        "    df2.drop(labels=['SalePrice'], axis=1),  # features\n",
        "    df2['SalePrice'],                        # target\n",
        "    test_size=0.3,\n",
        "    random_state=0\n",
        ")\n",
        "\n",
        "print(x_train2.shape)\n",
        "print(x_test2.shape)\n"
      ]
    },
    {
      "cell_type": "code",
      "execution_count": null,
      "metadata": {
        "id": "lrxEfAa-rP9j",
        "colab": {
          "base_uri": "https://localhost:8080/"
        },
        "outputId": "16f4fb6e-9c96-4264-a83f-d2dfb35e30b6"
      },
      "outputs": [
        {
          "output_type": "stream",
          "name": "stdout",
          "text": [
            "Train shape: (1022, 244)\n",
            "Test shape: (438, 244)\n"
          ]
        },
        {
          "output_type": "stream",
          "name": "stderr",
          "text": [
            "[Parallel(n_jobs=1)]: Done  40 tasks      | elapsed:   31.4s\n",
            "[Parallel(n_jobs=1)]: Done 161 tasks      | elapsed:  1.8min\n",
            "[Parallel(n_jobs=1)]: Done 244 out of 244 | elapsed:  2.7min finished\n",
            "\n",
            "[2025-08-20 04:15:18] Features: 1/2 -- score: 0.6671760786062668[Parallel(n_jobs=1)]: Done  40 tasks      | elapsed:   28.6s\n",
            "[Parallel(n_jobs=1)]: Done 161 tasks      | elapsed:  1.8min\n"
          ]
        },
        {
          "output_type": "stream",
          "name": "stdout",
          "text": [
            "Selected features: ['OverallQual', 'GarageCars']\n"
          ]
        },
        {
          "output_type": "stream",
          "name": "stderr",
          "text": [
            "[Parallel(n_jobs=1)]: Done 243 out of 243 | elapsed:  2.7min finished\n",
            "\n",
            "[2025-08-20 04:18:01] Features: 2/2 -- score: 0.7221363257636675"
          ]
        }
      ],
      "source": [
        "import pandas as pd\n",
        "import numpy as np\n",
        "from sklearn.model_selection import train_test_split\n",
        "from sklearn.ensemble import RandomForestRegressor\n",
        "from mlxtend.feature_selection import SequentialFeatureSelector as SFS\n",
        "\n",
        "\n",
        "X = df2.drop(columns=['Id', 'SalePrice'])\n",
        "y = df2['SalePrice']\n",
        "\n",
        "\n",
        "X = pd.get_dummies(X, drop_first=True)\n",
        "\n",
        "\n",
        "x_train2, x_test2, y_train2, y_test2 = train_test_split(\n",
        "    X, y, test_size=0.3, random_state=0\n",
        ")\n",
        "\n",
        "print(\"Train shape:\", x_train2.shape)\n",
        "print(\"Test shape:\", x_test2.shape)\n",
        "\n",
        "\n",
        "sfs1 = SFS(RandomForestRegressor(n_jobs=-1, random_state=0),\n",
        "           k_features=2,\n",
        "           forward=True,\n",
        "           floating=False,\n",
        "           verbose=2,\n",
        "           scoring='r2',\n",
        "           cv=3)\n",
        "\n",
        "sfs1 = sfs1.fit(x_train2.values, y_train2.values)\n",
        "\n",
        "\n",
        "selected_features = x_train2.columns[list(sfs1.k_feature_idx_)]\n",
        "print(\"Selected features:\", selected_features.tolist())\n"
      ]
    },
    {
      "cell_type": "code",
      "execution_count": null,
      "metadata": {
        "colab": {
          "background_save": true,
          "base_uri": "https://localhost:8080/"
        },
        "id": "3tNqsdfKuHQj",
        "outputId": "5f2cfbbf-0baf-4dce-a176-d09200e0a558"
      },
      "outputs": [
        {
          "name": "stderr",
          "output_type": "stream",
          "text": [
            "[Parallel(n_jobs=1)]: Done  40 tasks      | elapsed:  4.0min\n",
            "[Parallel(n_jobs=1)]: Done 161 tasks      | elapsed: 16.0min\n",
            "[Parallel(n_jobs=1)]: Done 244 out of 244 | elapsed: 24.0min finished\n",
            "\n",
            "[2025-08-19 17:47:34] Features: 243/5 -- score: 0.8612881894527722[Parallel(n_jobs=1)]: Done  40 tasks      | elapsed:  3.9min\n",
            "[Parallel(n_jobs=1)]: Done 161 tasks      | elapsed: 15.9min\n",
            "[Parallel(n_jobs=1)]: Done 243 out of 243 | elapsed: 23.9min finished\n",
            "\n",
            "[2025-08-19 18:11:27] Features: 242/5 -- score: 0.8590388794734052[Parallel(n_jobs=1)]: Done  40 tasks      | elapsed:  3.9min\n",
            "[Parallel(n_jobs=1)]: Done 161 tasks      | elapsed: 15.6min\n",
            "[Parallel(n_jobs=1)]: Done 242 out of 242 | elapsed: 23.5min finished\n",
            "\n",
            "[2025-08-19 18:34:56] Features: 241/5 -- score: 0.8598411262897883[Parallel(n_jobs=1)]: Done  40 tasks      | elapsed:  3.8min\n",
            "[Parallel(n_jobs=1)]: Done 161 tasks      | elapsed: 15.3min\n",
            "[Parallel(n_jobs=1)]: Done 241 out of 241 | elapsed: 22.8min finished\n",
            "\n",
            "[2025-08-19 18:57:41] Features: 240/5 -- score: 0.8610351034284655[Parallel(n_jobs=1)]: Done  40 tasks      | elapsed:  3.7min\n",
            "[Parallel(n_jobs=1)]: Done 161 tasks      | elapsed: 14.8min\n",
            "[Parallel(n_jobs=1)]: Done 240 out of 240 | elapsed: 22.0min finished\n",
            "\n",
            "[2025-08-19 19:19:40] Features: 239/5 -- score: 0.8642704234582602[Parallel(n_jobs=1)]: Done  40 tasks      | elapsed:  3.6min\n",
            "[Parallel(n_jobs=1)]: Done 161 tasks      | elapsed: 14.7min\n",
            "[Parallel(n_jobs=1)]: Done 239 out of 239 | elapsed: 21.8min finished\n",
            "\n",
            "[2025-08-19 19:41:28] Features: 238/5 -- score: 0.8632479423353447[Parallel(n_jobs=1)]: Done  40 tasks      | elapsed:  3.7min\n"
          ]
        }
      ],
      "source": [
        "sfs1 = SFS(RandomForestRegressor(n_jobs=4),\n",
        "           k_features = 5,\n",
        "           forward = False,\n",
        "           floating = False,\n",
        "           verbose = 2,\n",
        "           scoring = 'r2',\n",
        "           cv = 3)\n",
        "sfs1 = sfs1.fit(np.array(x_train2), y_train2)\n",
        "x_train2.columns[list(sfs1.k_feature_idx_)]"
      ]
    },
    {
      "cell_type": "code",
      "execution_count": null,
      "metadata": {
        "id": "meVmV8k_fbqD",
        "colab": {
          "base_uri": "https://localhost:8080/"
        },
        "outputId": "87cd7f90-e65f-4e9b-9b0a-2cc6120f64f3"
      },
      "outputs": [
        {
          "output_type": "stream",
          "name": "stdout",
          "text": [
            "Shape of x_train2: (1022, 244)\n",
            "Columns: ['MSSubClass', 'LotFrontage', 'LotArea', 'OverallQual', 'OverallCond', 'YearBuilt', 'YearRemodAdd', 'MasVnrArea', 'BsmtFinSF1', 'BsmtFinSF2', 'BsmtUnfSF', 'TotalBsmtSF', '1stFlrSF', '2ndFlrSF', 'LowQualFinSF', 'GrLivArea', 'BsmtFullBath', 'BsmtHalfBath', 'FullBath', 'HalfBath', 'BedroomAbvGr', 'KitchenAbvGr', 'TotRmsAbvGrd', 'Fireplaces', 'GarageYrBlt', 'GarageCars', 'GarageArea', 'WoodDeckSF', 'OpenPorchSF', 'EnclosedPorch', '3SsnPorch', 'ScreenPorch', 'PoolArea', 'MiscVal', 'MoSold', 'YrSold', 'MSZoning_FV', 'MSZoning_RH', 'MSZoning_RL', 'MSZoning_RM', 'Street_Pave', 'Alley_Pave', 'LotShape_IR2', 'LotShape_IR3', 'LotShape_Reg', 'LandContour_HLS', 'LandContour_Low', 'LandContour_Lvl', 'Utilities_NoSeWa', 'LotConfig_CulDSac', 'LotConfig_FR2', 'LotConfig_FR3', 'LotConfig_Inside', 'LandSlope_Mod', 'LandSlope_Sev', 'Neighborhood_Blueste', 'Neighborhood_BrDale', 'Neighborhood_BrkSide', 'Neighborhood_ClearCr', 'Neighborhood_CollgCr', 'Neighborhood_Crawfor', 'Neighborhood_Edwards', 'Neighborhood_Gilbert', 'Neighborhood_IDOTRR', 'Neighborhood_MeadowV', 'Neighborhood_Mitchel', 'Neighborhood_NAmes', 'Neighborhood_NPkVill', 'Neighborhood_NWAmes', 'Neighborhood_NoRidge', 'Neighborhood_NridgHt', 'Neighborhood_OldTown', 'Neighborhood_SWISU', 'Neighborhood_Sawyer', 'Neighborhood_SawyerW', 'Neighborhood_Somerst', 'Neighborhood_StoneBr', 'Neighborhood_Timber', 'Neighborhood_Veenker', 'Condition1_Feedr', 'Condition1_Norm', 'Condition1_PosA', 'Condition1_PosN', 'Condition1_RRAe', 'Condition1_RRAn', 'Condition1_RRNe', 'Condition1_RRNn', 'Condition2_Feedr', 'Condition2_Norm', 'Condition2_PosA', 'Condition2_PosN', 'Condition2_RRAe', 'Condition2_RRAn', 'Condition2_RRNn', 'BldgType_2fmCon', 'BldgType_Duplex', 'BldgType_Twnhs', 'BldgType_TwnhsE', 'HouseStyle_1.5Unf', 'HouseStyle_1Story', 'HouseStyle_2.5Fin', 'HouseStyle_2.5Unf', 'HouseStyle_2Story', 'HouseStyle_SFoyer', 'HouseStyle_SLvl', 'RoofStyle_Gable', 'RoofStyle_Gambrel', 'RoofStyle_Hip', 'RoofStyle_Mansard', 'RoofStyle_Shed', 'RoofMatl_CompShg', 'RoofMatl_Membran', 'RoofMatl_Metal', 'RoofMatl_Roll', 'RoofMatl_Tar&Grv', 'RoofMatl_WdShake', 'RoofMatl_WdShngl', 'Exterior1st_AsphShn', 'Exterior1st_BrkComm', 'Exterior1st_BrkFace', 'Exterior1st_CBlock', 'Exterior1st_CemntBd', 'Exterior1st_HdBoard', 'Exterior1st_ImStucc', 'Exterior1st_MetalSd', 'Exterior1st_Plywood', 'Exterior1st_Stone', 'Exterior1st_Stucco', 'Exterior1st_VinylSd', 'Exterior1st_Wd Sdng', 'Exterior1st_WdShing', 'Exterior2nd_AsphShn', 'Exterior2nd_Brk Cmn', 'Exterior2nd_BrkFace', 'Exterior2nd_CBlock', 'Exterior2nd_CmentBd', 'Exterior2nd_HdBoard', 'Exterior2nd_ImStucc', 'Exterior2nd_MetalSd', 'Exterior2nd_Other', 'Exterior2nd_Plywood', 'Exterior2nd_Stone', 'Exterior2nd_Stucco', 'Exterior2nd_VinylSd', 'Exterior2nd_Wd Sdng', 'Exterior2nd_Wd Shng', 'MasVnrType_BrkFace', 'MasVnrType_Stone', 'ExterQual_Fa', 'ExterQual_Gd', 'ExterQual_TA', 'ExterCond_Fa', 'ExterCond_Gd', 'ExterCond_Po', 'ExterCond_TA', 'Foundation_CBlock', 'Foundation_PConc', 'Foundation_Slab', 'Foundation_Stone', 'Foundation_Wood', 'BsmtQual_Fa', 'BsmtQual_Gd', 'BsmtQual_TA', 'BsmtCond_Gd', 'BsmtCond_Po', 'BsmtCond_TA', 'BsmtExposure_Gd', 'BsmtExposure_Mn', 'BsmtExposure_No', 'BsmtFinType1_BLQ', 'BsmtFinType1_GLQ', 'BsmtFinType1_LwQ', 'BsmtFinType1_Rec', 'BsmtFinType1_Unf', 'BsmtFinType2_BLQ', 'BsmtFinType2_GLQ', 'BsmtFinType2_LwQ', 'BsmtFinType2_Rec', 'BsmtFinType2_Unf', 'Heating_GasA', 'Heating_GasW', 'Heating_Grav', 'Heating_OthW', 'Heating_Wall', 'HeatingQC_Fa', 'HeatingQC_Gd', 'HeatingQC_Po', 'HeatingQC_TA', 'CentralAir_Y', 'Electrical_FuseF', 'Electrical_FuseP', 'Electrical_Mix', 'Electrical_SBrkr', 'KitchenQual_Fa', 'KitchenQual_Gd', 'KitchenQual_TA', 'Functional_Maj2', 'Functional_Min1', 'Functional_Min2', 'Functional_Mod', 'Functional_Sev', 'Functional_Typ', 'FireplaceQu_Fa', 'FireplaceQu_Gd', 'FireplaceQu_Po', 'FireplaceQu_TA', 'GarageType_Attchd', 'GarageType_Basment', 'GarageType_BuiltIn', 'GarageType_CarPort', 'GarageType_Detchd', 'GarageFinish_RFn', 'GarageFinish_Unf', 'GarageQual_Fa', 'GarageQual_Gd', 'GarageQual_Po', 'GarageQual_TA', 'GarageCond_Fa', 'GarageCond_Gd', 'GarageCond_Po', 'GarageCond_TA', 'PavedDrive_P', 'PavedDrive_Y', 'PoolQC_Fa', 'PoolQC_Gd', 'Fence_GdWo', 'Fence_MnPrv', 'Fence_MnWw', 'MiscFeature_Othr', 'MiscFeature_Shed', 'MiscFeature_TenC', 'SaleType_CWD', 'SaleType_Con', 'SaleType_ConLD', 'SaleType_ConLI', 'SaleType_ConLw', 'SaleType_New', 'SaleType_Oth', 'SaleType_WD', 'SaleCondition_AdjLand', 'SaleCondition_Alloca', 'SaleCondition_Family', 'SaleCondition_Normal', 'SaleCondition_Partial']\n"
          ]
        }
      ],
      "source": [
        "print(\"Shape of x_train2:\", x_train2.shape)\n",
        "print(\"Columns:\", list(x_train2.columns))\n"
      ]
    },
    {
      "cell_type": "markdown",
      "source": [
        "# **Exhaustive Feature Selection**\n",
        "Suppose you have n features.\n",
        "\n",
        "EFS will generate all possible subsets of features (1 feature, 2 features, 3 features, … n features).\n",
        "\n",
        "For each subset, it will train your model (e.g., Logistic Regression) and evaluate performance (using cross-validation).\n",
        "\n",
        "It then picks the best-performing subset."
      ],
      "metadata": {
        "id": "qZ0U5UMX1xhF"
      }
    },
    {
      "cell_type": "code",
      "execution_count": null,
      "metadata": {
        "id": "pacMqSSExR9k",
        "colab": {
          "base_uri": "https://localhost:8080/"
        },
        "outputId": "e9beb6e4-3a91-47ae-f61f-0a4fc09a5582"
      },
      "outputs": [
        {
          "output_type": "stream",
          "name": "stderr",
          "text": [
            "Features: 15/15"
          ]
        },
        {
          "output_type": "stream",
          "name": "stdout",
          "text": [
            "Best score: 0.9666666666666666\n",
            "Best feature indices: (0, 2, 3)\n",
            "Best feature names: ('sepal length (cm)', 'petal length (cm)', 'petal width (cm)')\n"
          ]
        }
      ],
      "source": [
        "\n",
        "import pandas as pd\n",
        "from sklearn.model_selection import train_test_split\n",
        "from sklearn.linear_model import LogisticRegression\n",
        "from mlxtend.feature_selection import ExhaustiveFeatureSelector as EFS\n",
        "\n",
        "from sklearn.datasets import load_iris\n",
        "data = load_iris()\n",
        "X = pd.DataFrame(data.data, columns=data.feature_names)\n",
        "y = pd.Series(data.target)\n",
        "\n",
        "\n",
        "x_train2, x_test2, y_train2, y_test2 = train_test_split(X, y, test_size=0.2, random_state=42)\n",
        "\n",
        "lr = LogisticRegression(max_iter=1000)\n",
        "\n",
        "efs = EFS(estimator=lr,\n",
        "          min_features=1,\n",
        "          max_features=X.shape[1],\n",
        "          scoring='accuracy',\n",
        "          print_progress=True,\n",
        "          cv=5\n",
        ")\n",
        "\n",
        "efs = efs.fit(x_train2, y_train2)\n",
        "\n",
        "\n",
        "print(\"Best score:\", efs.best_score_)\n",
        "print(\"Best feature indices:\", efs.best_idx_)\n",
        "print(\"Best feature names:\", efs.best_feature_names_)\n"
      ]
    },
    {
      "cell_type": "code",
      "source": [
        "import pandas as pd\n",
        "from sklearn.model_selection import train_test_split\n",
        "from sklearn.linear_model import LogisticRegression\n",
        "from sklearn.feature_selection import RFE\n",
        "from sklearn.datasets import load_iris\n",
        "\n",
        "\n",
        "data = load_iris()\n",
        "X = pd.DataFrame(data.data, columns=data.feature_names)\n",
        "y = pd.Series(data.target)\n",
        "\n",
        "x_train, x_test, y_train, y_test = train_test_split(X, y, test_size=0.2, random_state=42)\n",
        "\n",
        "\n",
        "lr = LogisticRegression(max_iter=1000)\n",
        "\n",
        "\n",
        "rfe = RFE(estimator=lr, n_features_to_select=3)\n",
        "rfe.fit(x_train, y_train)\n",
        "\n",
        "\n",
        "selected_features = x_train.columns[rfe.support_]\n",
        "print(\"Top 3 selected features by RFE:\")\n",
        "print(selected_features)\n",
        "\n",
        "feature_ranking = pd.Series(rfe.ranking_, index=x_train.columns).sort_values()\n",
        "print(\"\\nFeature ranking (1 = most important):\")\n",
        "print(feature_ranking)\n"
      ],
      "metadata": {
        "colab": {
          "base_uri": "https://localhost:8080/"
        },
        "id": "E567YTtF1t_A",
        "outputId": "e808fda4-e75f-422f-b571-839ff33b060b"
      },
      "execution_count": null,
      "outputs": [
        {
          "output_type": "stream",
          "name": "stdout",
          "text": [
            "Top 3 selected features by RFE:\n",
            "Index(['sepal width (cm)', 'petal length (cm)', 'petal width (cm)'], dtype='object')\n",
            "\n",
            "Feature ranking (1 = most important):\n",
            "sepal width (cm)     1\n",
            "petal length (cm)    1\n",
            "petal width (cm)     1\n",
            "sepal length (cm)    2\n",
            "dtype: int64\n"
          ]
        }
      ]
    }
  ],
  "metadata": {
    "colab": {
      "provenance": [],
      "include_colab_link": true
    },
    "kernelspec": {
      "display_name": "Python 3",
      "name": "python3"
    },
    "language_info": {
      "name": "python"
    }
  },
  "nbformat": 4,
  "nbformat_minor": 0
}