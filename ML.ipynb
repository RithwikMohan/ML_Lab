{
  "nbformat": 4,
  "nbformat_minor": 0,
  "metadata": {
    "colab": {
      "provenance": [],
      "authorship_tag": "ABX9TyN9LnOAT/TA0jElnvTyOocT",
      "include_colab_link": true
    },
    "kernelspec": {
      "name": "python3",
      "display_name": "Python 3"
    },
    "language_info": {
      "name": "python"
    }
  },
  "cells": [
    {
      "cell_type": "markdown",
      "metadata": {
        "id": "view-in-github",
        "colab_type": "text"
      },
      "source": [
        "<a href=\"https://colab.research.google.com/github/RithwikMohan/ML_Lab/blob/main/ML.ipynb\" target=\"_parent\"><img src=\"https://colab.research.google.com/assets/colab-badge.svg\" alt=\"Open In Colab\"/></a>"
      ]
    },
    {
      "cell_type": "markdown",
      "source": [
        "23-07-25"
      ],
      "metadata": {
        "id": "uz0AvgCyyF2t"
      }
    },
    {
      "cell_type": "code",
      "execution_count": null,
      "metadata": {
        "colab": {
          "base_uri": "https://localhost:8080/"
        },
        "id": "tVGZxt1nv3wG",
        "outputId": "df0ef5fd-c3fd-412e-90ec-294e3ef8f786"
      },
      "outputs": [
        {
          "output_type": "stream",
          "name": "stdout",
          "text": [
            "            2014   2015    2016   2017\n",
            "Madhu      100.5  12000   20000  50000\n",
            "Kusum      150.8  18000   50000  60000\n",
            "Kinshuk    200.9  22000   70000  70000\n",
            "Ankit    30000.0  30000  100000  80000\n",
            "Shruti   40000.0  45000  125000  90000\n"
          ]
        }
      ],
      "source": [
        "#9\n",
        "import pandas as pd\n",
        "data={\n",
        "    2014:[100.5,150.8,200.9,30000,40000],\n",
        "    2015:[12000,18000,22000,30000,45000],\n",
        "    2016:[20000,50000,70000,100000,125000],\n",
        "    2017:[50000,60000,70000,80000,90000]\n",
        "}\n",
        "df=pd.DataFrame(data,index=['Madhu','Kusum','Kinshuk','Ankit','Shruti'])\n",
        "print(df)"
      ]
    },
    {
      "cell_type": "code",
      "source": [
        "#10\n",
        "import pandas as pd\n",
        "\n",
        "print(df.index)\n",
        "print(df.columns)\n",
        "print(df.dtypes)\n",
        "print(df.ndim)\n",
        "print(df.shape)\n",
        "print(df.size)\n",
        "print(df.values)\n",
        "print(df.tail(2))\n",
        "print(df.iloc[:,:2])\n",
        "new_data={2018:[160000,110000,50000,340000,90000]}\n",
        "sales2=pd.DataFrame(new_data,index=['Madhu','Kusum','Kinshuk','Ankit','Shruti'])\n",
        "print(sales2)\n",
        "print(sales2.empty)"
      ],
      "metadata": {
        "colab": {
          "base_uri": "https://localhost:8080/"
        },
        "id": "okl2cTIIywk8",
        "outputId": "481b6ecb-9d4a-4594-9799-c1b0b5584d75"
      },
      "execution_count": null,
      "outputs": [
        {
          "output_type": "stream",
          "name": "stdout",
          "text": [
            "Index(['Madhu', 'Kusum', 'Kinshuk', 'Ankit', 'Shruti'], dtype='object')\n",
            "Index([2014, 2015, 2016, 2017], dtype='int64')\n",
            "2014    float64\n",
            "2015      int64\n",
            "2016      int64\n",
            "2017      int64\n",
            "dtype: object\n",
            "2\n",
            "(5, 4)\n",
            "20\n",
            "[[1.005e+02 1.200e+04 2.000e+04 5.000e+04]\n",
            " [1.508e+02 1.800e+04 5.000e+04 6.000e+04]\n",
            " [2.009e+02 2.200e+04 7.000e+04 7.000e+04]\n",
            " [3.000e+04 3.000e+04 1.000e+05 8.000e+04]\n",
            " [4.000e+04 4.500e+04 1.250e+05 9.000e+04]]\n",
            "           2014   2015    2016   2017\n",
            "Ankit   30000.0  30000  100000  80000\n",
            "Shruti  40000.0  45000  125000  90000\n",
            "            2014   2015\n",
            "Madhu      100.5  12000\n",
            "Kusum      150.8  18000\n",
            "Kinshuk    200.9  22000\n",
            "Ankit    30000.0  30000\n",
            "Shruti   40000.0  45000\n",
            "           2018\n",
            "Madhu    160000\n",
            "Kusum    110000\n",
            "Kinshuk   50000\n",
            "Ankit    340000\n",
            "Shruti    90000\n",
            "False\n"
          ]
        }
      ]
    },
    {
      "cell_type": "code",
      "source": [
        "#11\n",
        "sales=pd.concat([df,sales2],axis=1)\n",
        "print(sales)\n",
        "print(sales.transpose())\n",
        "print(sales[2017])\n",
        "print(sales.loc[[\"Madhu\",'Ankit'],[2017,2018]]) #sales made by madhu and ankith in 2017 and 2018\n",
        "print(sales.loc[[\"Shruti\"],[2016]])\n",
        "\n",
        "sales = sales.loc[:, ~sales.columns.duplicated()] #ignore this\n",
        "sales.loc[\"Sumeet\"] = [196.2, 37800, 52000, 78438, 38852]\n",
        "print(sales)\n",
        "\n",
        "sales.drop([2014], axis=1, inplace=True) #Dropping 2014 row from sales\n",
        "print(sales)\n"
      ],
      "metadata": {
        "colab": {
          "base_uri": "https://localhost:8080/"
        },
        "id": "XKCTxBo4Mc9e",
        "outputId": "f152d5e8-c706-423a-a939-9d26f5cf1c72"
      },
      "execution_count": null,
      "outputs": [
        {
          "output_type": "stream",
          "name": "stdout",
          "text": [
            "            2014   2015    2016   2017    2018\n",
            "Madhu      100.5  12000   20000  50000  160000\n",
            "Kusum      150.8  18000   50000  60000  110000\n",
            "Kinshuk    200.9  22000   70000  70000   50000\n",
            "Ankit    30000.0  30000  100000  80000  340000\n",
            "Shruti   40000.0  45000  125000  90000   90000\n",
            "         Madhu     Kusum  Kinshuk     Ankit    Shruti\n",
            "2014     100.5     150.8    200.9   30000.0   40000.0\n",
            "2015   12000.0   18000.0  22000.0   30000.0   45000.0\n",
            "2016   20000.0   50000.0  70000.0  100000.0  125000.0\n",
            "2017   50000.0   60000.0  70000.0   80000.0   90000.0\n",
            "2018  160000.0  110000.0  50000.0  340000.0   90000.0\n",
            "Madhu      50000\n",
            "Kusum      60000\n",
            "Kinshuk    70000\n",
            "Ankit      80000\n",
            "Shruti     90000\n",
            "Name: 2017, dtype: int64\n",
            "        2017    2018\n",
            "Madhu  50000  160000\n",
            "Ankit  80000  340000\n",
            "          2016\n",
            "Shruti  125000\n",
            "            2014     2015      2016     2017      2018\n",
            "Madhu      100.5  12000.0   20000.0  50000.0  160000.0\n",
            "Kusum      150.8  18000.0   50000.0  60000.0  110000.0\n",
            "Kinshuk    200.9  22000.0   70000.0  70000.0   50000.0\n",
            "Ankit    30000.0  30000.0  100000.0  80000.0  340000.0\n",
            "Shruti   40000.0  45000.0  125000.0  90000.0   90000.0\n",
            "Sumeet     196.2  37800.0   52000.0  78438.0   38852.0\n",
            "Index(['Madhu', 'Kusum', 'Kinshuk', 'Ankit', 'Shruti', 'Sumeet'], dtype='object')\n",
            "            2015      2016     2017      2018\n",
            "Madhu    12000.0   20000.0  50000.0  160000.0\n",
            "Kusum    18000.0   50000.0  60000.0  110000.0\n",
            "Kinshuk  22000.0   70000.0  70000.0   50000.0\n",
            "Ankit    30000.0  100000.0  80000.0  340000.0\n",
            "Shruti   45000.0  125000.0  90000.0   90000.0\n",
            "Sumeet   37800.0   52000.0  78438.0   38852.0\n"
          ]
        }
      ]
    }
  ]
}