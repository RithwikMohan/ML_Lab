{
  "nbformat": 4,
  "nbformat_minor": 0,
  "metadata": {
    "colab": {
      "provenance": [],
      "authorship_tag": "ABX9TyORNi3HetpsnwnX4eu9fbfk",
      "include_colab_link": true
    },
    "kernelspec": {
      "name": "python3",
      "display_name": "Python 3"
    },
    "language_info": {
      "name": "python"
    }
  },
  "cells": [
    {
      "cell_type": "markdown",
      "metadata": {
        "id": "view-in-github",
        "colab_type": "text"
      },
      "source": [
        "<a href=\"https://colab.research.google.com/github/RithwikMohan/ML_Lab/blob/main/ML.ipynb\" target=\"_parent\"><img src=\"https://colab.research.google.com/assets/colab-badge.svg\" alt=\"Open In Colab\"/></a>"
      ]
    },
    {
      "cell_type": "markdown",
      "source": [
        "23-07-25"
      ],
      "metadata": {
        "id": "uz0AvgCyyF2t"
      }
    },
    {
      "cell_type": "code",
      "execution_count": null,
      "metadata": {
        "colab": {
          "base_uri": "https://localhost:8080/"
        },
        "id": "tVGZxt1nv3wG",
        "outputId": "df0ef5fd-c3fd-412e-90ec-294e3ef8f786"
      },
      "outputs": [
        {
          "output_type": "stream",
          "name": "stdout",
          "text": [
            "            2014   2015    2016   2017\n",
            "Madhu      100.5  12000   20000  50000\n",
            "Kusum      150.8  18000   50000  60000\n",
            "Kinshuk    200.9  22000   70000  70000\n",
            "Ankit    30000.0  30000  100000  80000\n",
            "Shruti   40000.0  45000  125000  90000\n"
          ]
        }
      ],
      "source": [
        "#9\n",
        "import pandas as pd\n",
        "data={\n",
        "    2014:[100.5,150.8,200.9,30000,40000],\n",
        "    2015:[12000,18000,22000,30000,45000],\n",
        "    2016:[20000,50000,70000,100000,125000],\n",
        "    2017:[50000,60000,70000,80000,90000]\n",
        "}\n",
        "df=pd.DataFrame(data,index=['Madhu','Kusum','Kinshuk','Ankit','Shruti'])\n",
        "print(df)"
      ]
    },
    {
      "cell_type": "markdown",
      "source": [
        "28-07-25"
      ],
      "metadata": {
        "id": "9yiGppmZRPfG"
      }
    },
    {
      "cell_type": "code",
      "source": [
        "#10\n",
        "import pandas as pd\n",
        "\n",
        "print(df.index)\n",
        "print(df.columns)\n",
        "print(df.dtypes)\n",
        "print(df.ndim)\n",
        "print(df.shape)\n",
        "print(df.size)\n",
        "print(df.values)\n",
        "print(df.tail(2))\n",
        "print(df.iloc[:,:2])\n",
        "new_data={2018:[160000,110000,50000,340000,90000]}\n",
        "sales2=pd.DataFrame(new_data,index=['Madhu','Kusum','Kinshuk','Ankit','Shruti'])\n",
        "print(sales2)\n",
        "print(sales2.empty)"
      ],
      "metadata": {
        "colab": {
          "base_uri": "https://localhost:8080/"
        },
        "id": "okl2cTIIywk8",
        "outputId": "481b6ecb-9d4a-4594-9799-c1b0b5584d75"
      },
      "execution_count": null,
      "outputs": [
        {
          "output_type": "stream",
          "name": "stdout",
          "text": [
            "Index(['Madhu', 'Kusum', 'Kinshuk', 'Ankit', 'Shruti'], dtype='object')\n",
            "Index([2014, 2015, 2016, 2017], dtype='int64')\n",
            "2014    float64\n",
            "2015      int64\n",
            "2016      int64\n",
            "2017      int64\n",
            "dtype: object\n",
            "2\n",
            "(5, 4)\n",
            "20\n",
            "[[1.005e+02 1.200e+04 2.000e+04 5.000e+04]\n",
            " [1.508e+02 1.800e+04 5.000e+04 6.000e+04]\n",
            " [2.009e+02 2.200e+04 7.000e+04 7.000e+04]\n",
            " [3.000e+04 3.000e+04 1.000e+05 8.000e+04]\n",
            " [4.000e+04 4.500e+04 1.250e+05 9.000e+04]]\n",
            "           2014   2015    2016   2017\n",
            "Ankit   30000.0  30000  100000  80000\n",
            "Shruti  40000.0  45000  125000  90000\n",
            "            2014   2015\n",
            "Madhu      100.5  12000\n",
            "Kusum      150.8  18000\n",
            "Kinshuk    200.9  22000\n",
            "Ankit    30000.0  30000\n",
            "Shruti   40000.0  45000\n",
            "           2018\n",
            "Madhu    160000\n",
            "Kusum    110000\n",
            "Kinshuk   50000\n",
            "Ankit    340000\n",
            "Shruti    90000\n",
            "False\n"
          ]
        }
      ]
    },
    {
      "cell_type": "code",
      "source": [
        "#11\n",
        "sales=pd.concat([df,sales2],axis=1)\n",
        "print(sales)\n",
        "print(sales.transpose())\n",
        "print(sales[2017])\n",
        "print(sales.loc[[\"Madhu\",'Ankit'],[2017,2018]]) #sales made by madhu and ankith in 2017 and 2018\n",
        "print(sales.loc[[\"Shruti\"],[2016]])\n",
        "\n",
        "sales = sales.loc[:, ~sales.columns.duplicated()] #ignore this\n",
        "sales.loc[\"Sumeet\"] = [196.2, 37800, 52000, 78438, 38852]\n",
        "print(sales)\n",
        "\n",
        "sales.drop([2014], axis=1, inplace=True) #Dropping 2014 row from sales, inplace will update the same dataframe instead of creating another, for col axis=1\n",
        "print(sales)\n",
        "\n",
        "sales.drop(['Kinshuk'], axis=0, inplace=True) #Dropping Kinshuk from sales, for row axis=0\n",
        "print(sales)\n",
        "\n",
        "sales.rename(index = {'Ankit' : 'Vivaan',\n",
        "                      'Madhu' : 'Shailesh'}, inplace=True )\n",
        "print(sales)\n",
        "\n",
        "sales.loc[['Shailesh'],[2018]] = 100000\n",
        "print(sales)\n",
        "\n",
        "#Exporting data into csv file\n",
        "sales.to_csv(\"SalesFigures.csv\", index=False, header=False)\n",
        "\n",
        "\n",
        "# Step 1: Read the CSV file into SalesRetrieved\n",
        "SalesRetrieved = pd.read_csv('SalesFigures.csv', header=None)\n",
        "\n",
        "# Step 2: Display SalesRetrieved before updating labels\n",
        "print(\"Before updating labels:\\n\", SalesRetrieved)\n",
        "\n",
        "# Step 3: Update the row and column labels to match Sales\n",
        "SalesRetrieved.index = sales.index\n",
        "SalesRetrieved.columns = sales.columns\n",
        "\n",
        "# Step 4: Display SalesRetrieved after updating labels\n",
        "print(\"\\nAfter updating labels:\\n\", SalesRetrieved)\n"
      ],
      "metadata": {
        "colab": {
          "base_uri": "https://localhost:8080/"
        },
        "id": "XKCTxBo4Mc9e",
        "outputId": "52575487-2f9a-44e8-8de4-66735872bf1d"
      },
      "execution_count": 15,
      "outputs": [
        {
          "output_type": "stream",
          "name": "stdout",
          "text": [
            "            2014   2015    2016   2017    2018\n",
            "Madhu      100.5  12000   20000  50000  160000\n",
            "Kusum      150.8  18000   50000  60000  110000\n",
            "Kinshuk    200.9  22000   70000  70000   50000\n",
            "Ankit    30000.0  30000  100000  80000  340000\n",
            "Shruti   40000.0  45000  125000  90000   90000\n",
            "         Madhu     Kusum  Kinshuk     Ankit    Shruti\n",
            "2014     100.5     150.8    200.9   30000.0   40000.0\n",
            "2015   12000.0   18000.0  22000.0   30000.0   45000.0\n",
            "2016   20000.0   50000.0  70000.0  100000.0  125000.0\n",
            "2017   50000.0   60000.0  70000.0   80000.0   90000.0\n",
            "2018  160000.0  110000.0  50000.0  340000.0   90000.0\n",
            "Madhu      50000\n",
            "Kusum      60000\n",
            "Kinshuk    70000\n",
            "Ankit      80000\n",
            "Shruti     90000\n",
            "Name: 2017, dtype: int64\n",
            "        2017    2018\n",
            "Madhu  50000  160000\n",
            "Ankit  80000  340000\n",
            "          2016\n",
            "Shruti  125000\n",
            "            2014     2015      2016     2017      2018\n",
            "Madhu      100.5  12000.0   20000.0  50000.0  160000.0\n",
            "Kusum      150.8  18000.0   50000.0  60000.0  110000.0\n",
            "Kinshuk    200.9  22000.0   70000.0  70000.0   50000.0\n",
            "Ankit    30000.0  30000.0  100000.0  80000.0  340000.0\n",
            "Shruti   40000.0  45000.0  125000.0  90000.0   90000.0\n",
            "Sumeet     196.2  37800.0   52000.0  78438.0   38852.0\n",
            "            2015      2016     2017      2018\n",
            "Madhu    12000.0   20000.0  50000.0  160000.0\n",
            "Kusum    18000.0   50000.0  60000.0  110000.0\n",
            "Kinshuk  22000.0   70000.0  70000.0   50000.0\n",
            "Ankit    30000.0  100000.0  80000.0  340000.0\n",
            "Shruti   45000.0  125000.0  90000.0   90000.0\n",
            "Sumeet   37800.0   52000.0  78438.0   38852.0\n",
            "           2015      2016     2017      2018\n",
            "Madhu   12000.0   20000.0  50000.0  160000.0\n",
            "Kusum   18000.0   50000.0  60000.0  110000.0\n",
            "Ankit   30000.0  100000.0  80000.0  340000.0\n",
            "Shruti  45000.0  125000.0  90000.0   90000.0\n",
            "Sumeet  37800.0   52000.0  78438.0   38852.0\n",
            "             2015      2016     2017      2018\n",
            "Shailesh  12000.0   20000.0  50000.0  160000.0\n",
            "Kusum     18000.0   50000.0  60000.0  110000.0\n",
            "Vivaan    30000.0  100000.0  80000.0  340000.0\n",
            "Shruti    45000.0  125000.0  90000.0   90000.0\n",
            "Sumeet    37800.0   52000.0  78438.0   38852.0\n",
            "             2015      2016     2017      2018\n",
            "Shailesh  12000.0   20000.0  50000.0  100000.0\n",
            "Kusum     18000.0   50000.0  60000.0  110000.0\n",
            "Vivaan    30000.0  100000.0  80000.0  340000.0\n",
            "Shruti    45000.0  125000.0  90000.0   90000.0\n",
            "Sumeet    37800.0   52000.0  78438.0   38852.0\n",
            "Before updating labels:\n",
            "          0         1        2         3\n",
            "0  12000.0   20000.0  50000.0  100000.0\n",
            "1  18000.0   50000.0  60000.0  110000.0\n",
            "2  30000.0  100000.0  80000.0  340000.0\n",
            "3  45000.0  125000.0  90000.0   90000.0\n",
            "4  37800.0   52000.0  78438.0   38852.0\n",
            "\n",
            "After updating labels:\n",
            "              2015      2016     2017      2018\n",
            "Shailesh  12000.0   20000.0  50000.0  100000.0\n",
            "Kusum     18000.0   50000.0  60000.0  110000.0\n",
            "Vivaan    30000.0  100000.0  80000.0  340000.0\n",
            "Shruti    45000.0  125000.0  90000.0   90000.0\n",
            "Sumeet    37800.0   52000.0  78438.0   38852.0\n"
          ]
        }
      ]
    },
    {
      "cell_type": "markdown",
      "source": [
        "29-07-25"
      ],
      "metadata": {
        "id": "5Zn68UT6RUuv"
      }
    },
    {
      "cell_type": "markdown",
      "source": [
        "excercise-**2**"
      ],
      "metadata": {
        "id": "otTWVOg5M_Os"
      }
    },
    {
      "cell_type": "code",
      "source": [
        "#13\n",
        "import pandas as pd\n",
        "\n",
        "data = {\n",
        "    'Item': ['TV', 'TV', 'TV', 'AC'],\n",
        "    'Company': ['LG', 'VIDEOCON', 'LG', 'SONY'],\n",
        "    'Rupees': [12000, 10000, 15000, 14000],\n",
        "    'USD': [700, 650, 800, 750]\n",
        "}\n",
        "\n",
        "df = pd.DataFrame(data)\n",
        "print(df)\n",
        "\n",
        "new_rows = pd.DataFrame({\n",
        "    'Item': ['Fridge', 'AC'],\n",
        "    'Company': ['LG', 'Samsung'],\n",
        "    'Rupees': [25000, 13000],\n",
        "    'USD': [1200, 700]\n",
        "})\n",
        "\n",
        "df = pd.concat([df, new_rows], ignore_index=True)\n",
        "print(df)\n"
      ],
      "metadata": {
        "colab": {
          "base_uri": "https://localhost:8080/"
        },
        "id": "181LfYM5NCcL",
        "outputId": "1ef87ff2-5569-410d-f7f2-b44ada0ac018"
      },
      "execution_count": 19,
      "outputs": [
        {
          "output_type": "stream",
          "name": "stdout",
          "text": [
            "  Item   Company  Rupees  USD\n",
            "0   TV        LG   12000  700\n",
            "1   TV  VIDEOCON   10000  650\n",
            "2   TV        LG   15000  800\n",
            "3   AC      SONY   14000  750\n",
            "     Item   Company  Rupees   USD\n",
            "0      TV        LG   12000   700\n",
            "1      TV  VIDEOCON   10000   650\n",
            "2      TV        LG   15000   800\n",
            "3      AC      SONY   14000   750\n",
            "4  Fridge        LG   25000  1200\n",
            "5      AC   Samsung   13000   700\n",
            "\n",
            "Maximum price of LG TV (Rupees): 15000\n"
          ]
        }
      ]
    },
    {
      "cell_type": "markdown",
      "source": [
        "ignore_index=True\n",
        "🔍 What it does:\n",
        "When you're concatenating, appending, or resetting index in a DataFrame, using ignore_index=True tells pandas to:\n",
        "\n",
        "Reset the row index to a default 0, 1, 2, ... sequence\n",
        "\n",
        "Ignore the existing index values\n",
        "    Name\n",
        "0  Alice\n",
        "1    Bob\n",
        "0 Charlie\n",
        "1  David   ← duplicate row indices!\n",
        "\n",
        "✅ With ignore_index=True:\n",
        "result2 = pd.concat([df1, df2], ignore_index=True)\n",
        "print(result2)\n",
        "Output:\n",
        "     Name\n",
        "0   Alice\n",
        "1     Bob\n",
        "2  Charlie\n",
        "3   David"
      ],
      "metadata": {
        "id": "AYRf_h7UNpv6"
      }
    },
    {
      "cell_type": "code",
      "source": [
        "#To display the maximum price of LG TV.\n",
        "max_price_lg_tv = df[(df['Item'] == 'TV') & (df['Company'] == 'LG')]['Rupees'].max()\n",
        "print(\"Maximum price of LG TV (Rupees):\", max_price_lg_tv)\n"
      ],
      "metadata": {
        "colab": {
          "base_uri": "https://localhost:8080/"
        },
        "id": "_Rls3EG1OIBc",
        "outputId": "ad8b8106-e56a-4281-d350-71baa31b648a"
      },
      "execution_count": 21,
      "outputs": [
        {
          "output_type": "stream",
          "name": "stdout",
          "text": [
            "Maximum price of LG TV (Rupees): 15000\n"
          ]
        }
      ]
    },
    {
      "cell_type": "code",
      "source": [
        "#d) To display the Sum of all products.\n",
        "sum_rupees = df['Rupees'].sum()\n",
        "sum_usd = df['USD'].sum()\n",
        "\n",
        "print(\"\\nSum of all products in Rupees:\", sum_rupees)\n",
        "print(\"Sum of all products in USD:\", sum_usd)\n"
      ],
      "metadata": {
        "colab": {
          "base_uri": "https://localhost:8080/"
        },
        "id": "8quDVtj8OVCB",
        "outputId": "840a4440-71fa-4cd4-a613-cbeac3dbb475"
      },
      "execution_count": 25,
      "outputs": [
        {
          "output_type": "stream",
          "name": "stdout",
          "text": [
            "\n",
            "Sum of all products in Rupees: 89000\n",
            "Sum of all products in USD: 4800\n"
          ]
        }
      ]
    },
    {
      "cell_type": "code",
      "source": [
        "#To display the median of the USD of Sony products.\n",
        "median_usd_sony = df[df['Company'] == 'SONY']['USD'].median()\n",
        "print(\"Median USD of SONY products:\", median_usd_sony)"
      ],
      "metadata": {
        "colab": {
          "base_uri": "https://localhost:8080/"
        },
        "id": "rOpZeoSqOi-t",
        "outputId": "bd4e75be-b25a-4d87-8ebd-140dc2ccc86c"
      },
      "execution_count": 28,
      "outputs": [
        {
          "output_type": "stream",
          "name": "stdout",
          "text": [
            "Median USD of SONY products: 750.0\n"
          ]
        }
      ]
    },
    {
      "cell_type": "code",
      "source": [
        "#14\n",
        "import pandas as pd\n",
        "import numpy as np\n",
        "\n",
        "# a) Create the DataFrame\n",
        "data = {\n",
        "    'Name': ['Amit', 'Riya', 'Karan', 'Sneha', 'Rahul', 'Neha'],\n",
        "    'Degree': ['MBA', 'BCA', 'BCA', 'MBA', 'BCA', 'MBA'],\n",
        "    'Stream': ['Finance', 'IT', 'IT', 'HR', 'IT', 'Finance'],\n",
        "    'Marks': [85, 76, np.nan, 88, 76, 92]\n",
        "}\n",
        "\n",
        "df = pd.DataFrame(data)\n",
        "print(df)\n",
        "\n",
        "# b) Print the Degree and maximum marks in each stream\n",
        "print(\"\\nb) Maximum marks in each stream:\")\n",
        "print(df.groupby(['Degree', 'Stream'])['Marks'].max())\n",
        "\n",
        "# c) Fill the NaN with 76\n",
        "df['Marks'] = df['Marks'].fillna(76)\n",
        "# d) Set the index to Name\n",
        "df.set_index('Name', inplace=True)\n",
        "\n",
        "# e) Display name and degree-wise average marks of each student\n",
        "print(\"\\ne) Average marks name and degree-wise:\")\n",
        "print(df.groupby(['Name', 'Degree'])['Marks'].mean())\n",
        "\n",
        "# f) Count the number of students in MBA\n",
        "mba_count = (df['Degree'] == 'MBA').sum()\n",
        "print(\"\\nf) Number of students in MBA:\", mba_count)\n",
        "\n",
        "# g) Print the mode marks of BCA\n",
        "bca_mode = df[df['Degree'] == 'BCA']['Marks'].mode()[0]\n",
        "print(\"\\ng) Mode marks of BCA students:\", bca_mode)\n"
      ],
      "metadata": {
        "colab": {
          "base_uri": "https://localhost:8080/"
        },
        "id": "txHWhddeP5VL",
        "outputId": "e5348c5e-687c-4bad-d774-8e03fcf2a70b"
      },
      "execution_count": 33,
      "outputs": [
        {
          "output_type": "stream",
          "name": "stdout",
          "text": [
            "    Name Degree   Stream  Marks\n",
            "0   Amit    MBA  Finance   85.0\n",
            "1   Riya    BCA       IT   76.0\n",
            "2  Karan    BCA       IT    NaN\n",
            "3  Sneha    MBA       HR   88.0\n",
            "4  Rahul    BCA       IT   76.0\n",
            "5   Neha    MBA  Finance   92.0\n",
            "\n",
            "b) Maximum marks in each stream:\n",
            "Degree  Stream \n",
            "BCA     IT         76.0\n",
            "MBA     Finance    92.0\n",
            "        HR         88.0\n",
            "Name: Marks, dtype: float64\n",
            "\n",
            "e) Average marks name and degree-wise:\n",
            "Name   Degree\n",
            "Amit   MBA       85.0\n",
            "Karan  BCA       76.0\n",
            "Neha   MBA       92.0\n",
            "Rahul  BCA       76.0\n",
            "Riya   BCA       76.0\n",
            "Sneha  MBA       88.0\n",
            "Name: Marks, dtype: float64\n",
            "\n",
            "f) Number of students in MBA: 3\n",
            "\n",
            "g) Mode marks of BCA students: 76.0\n"
          ]
        }
      ]
    },
    {
      "cell_type": "markdown",
      "source": [],
      "metadata": {
        "id": "GROT_gl3N4GK"
      }
    }
  ]
}