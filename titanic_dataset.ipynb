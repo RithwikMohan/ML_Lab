{
  "nbformat": 4,
  "nbformat_minor": 0,
  "metadata": {
    "colab": {
      "provenance": [],
      "include_colab_link": true
    },
    "kernelspec": {
      "name": "python3",
      "display_name": "Python 3"
    },
    "language_info": {
      "name": "python"
    }
  },
  "cells": [
    {
      "cell_type": "markdown",
      "metadata": {
        "id": "view-in-github",
        "colab_type": "text"
      },
      "source": [
        "<a href=\"https://colab.research.google.com/github/RithwikMohan/ML_Lab/blob/main/titanic_dataset.ipynb\" target=\"_parent\"><img src=\"https://colab.research.google.com/assets/colab-badge.svg\" alt=\"Open In Colab\"/></a>"
      ]
    },
    {
      "cell_type": "markdown",
      "source": [
        "Importing important libraries and functions"
      ],
      "metadata": {
        "id": "GTSGSiyOqVqS"
      }
    },
    {
      "cell_type": "code",
      "execution_count": null,
      "metadata": {
        "id": "tYu-lKDAvx2t"
      },
      "outputs": [],
      "source": [
        "import pandas as pd\n",
        "import numpy as np\n",
        "from sklearn.model_selection import train_test_split\n",
        "from sklearn.feature_selection import VarianceThreshold\n",
        "import matplotlib.pyplot as plt\n",
        "import seaborn as sns\n",
        "from sklearn.feature_selection import mutual_info_classif, mutual_info_regression\n",
        "from sklearn.feature_selection import chi2\n",
        "from sklearn.feature_selection import f_classif\n",
        "from sklearn.preprocessing import LabelEncoder"
      ]
    },
    {
      "cell_type": "code",
      "source": [
        "from google.colab import drive\n",
        "drive.mount('/content/drive')"
      ],
      "metadata": {
        "colab": {
          "base_uri": "https://localhost:8080/"
        },
        "id": "ooS2MZcxv9pk",
        "outputId": "59ae5abc-ecee-4b70-8d45-24a6dfdc886f",
        "collapsed": true
      },
      "execution_count": null,
      "outputs": [
        {
          "output_type": "stream",
          "name": "stdout",
          "text": [
            "Drive already mounted at /content/drive; to attempt to forcibly remount, call drive.mount(\"/content/drive\", force_remount=True).\n"
          ]
        }
      ]
    },
    {
      "cell_type": "markdown",
      "source": [
        "loading a dataset"
      ],
      "metadata": {
        "id": "ebiObchVqdG8"
      }
    },
    {
      "cell_type": "code",
      "source": [
        "filepath2 = '/content/drive/MyDrive/Datasets/titanic_train.csv'\n",
        "df2 = pd.read_csv(filepath2)\n",
        "print(df2.head())"
      ],
      "metadata": {
        "colab": {
          "base_uri": "https://localhost:8080/"
        },
        "id": "mNF5mK2jwOMF",
        "outputId": "d990c04c-1561-4061-a00a-ea3b7ca0f1ab"
      },
      "execution_count": null,
      "outputs": [
        {
          "output_type": "stream",
          "name": "stdout",
          "text": [
            "   PassengerId  Survived  Pclass  \\\n",
            "0            1         0       3   \n",
            "1            2         1       1   \n",
            "2            3         1       3   \n",
            "3            4         1       1   \n",
            "4            5         0       3   \n",
            "\n",
            "                                                Name     Sex   Age  SibSp  \\\n",
            "0                            Braund, Mr. Owen Harris    male  22.0      1   \n",
            "1  Cumings, Mrs. John Bradley (Florence Briggs Th...  female  38.0      1   \n",
            "2                             Heikkinen, Miss. Laina  female  26.0      0   \n",
            "3       Futrelle, Mrs. Jacques Heath (Lily May Peel)  female  35.0      1   \n",
            "4                           Allen, Mr. William Henry    male  35.0      0   \n",
            "\n",
            "   Parch            Ticket     Fare Cabin Embarked  \n",
            "0      0         A/5 21171   7.2500   NaN        S  \n",
            "1      0          PC 17599  71.2833   C85        C  \n",
            "2      0  STON/O2. 3101282   7.9250   NaN        S  \n",
            "3      0            113803  53.1000  C123        S  \n",
            "4      0            373450   8.0500   NaN        S  \n"
          ]
        }
      ]
    },
    {
      "cell_type": "code",
      "source": [
        "[col for col in df2.columns if df2[col].isnull().sum()>0] #checking for null values"
      ],
      "metadata": {
        "colab": {
          "base_uri": "https://localhost:8080/"
        },
        "id": "93aWmYJbwc0M",
        "outputId": "0a1a37ba-eb60-4a37-9d6a-539959528595"
      },
      "execution_count": null,
      "outputs": [
        {
          "output_type": "execute_result",
          "data": {
            "text/plain": [
              "['Age', 'Cabin', 'Embarked']"
            ]
          },
          "metadata": {},
          "execution_count": 16
        }
      ]
    },
    {
      "cell_type": "markdown",
      "source": [
        "Constant Features (columns with constant values)"
      ],
      "metadata": {
        "id": "0tqyZzvcqyTb"
      }
    },
    {
      "cell_type": "code",
      "source": [
        "# Select only numeric columns\n",
        "numeric_cols = x_train2.select_dtypes(include=['number']).columns\n",
        "\n",
        "# Find constant numeric features (std = 0)\n",
        "constant_features2 = [col for col in numeric_cols if x_train2[col].std() == 0]\n",
        "\n",
        "print(len(constant_features2))\n"
      ],
      "metadata": {
        "colab": {
          "base_uri": "https://localhost:8080/"
        },
        "id": "1LHupxTC44Bh",
        "outputId": "7c77bd2e-eca3-43bf-a6dc-f23d04c4dacf"
      },
      "execution_count": null,
      "outputs": [
        {
          "output_type": "stream",
          "name": "stdout",
          "text": [
            "0\n"
          ]
        }
      ]
    },
    {
      "cell_type": "code",
      "source": [
        "import pandas as pd\n",
        "from sklearn.model_selection import train_test_split\n",
        "\n",
        "# Assume df is your original dataframe and y is the target variable\n",
        "X = df2.drop('Age', axis=1)\n",
        "y = df2['Age']\n",
        "\n",
        "# Split the data into train and test sets\n",
        "x_train2, x_test2, y_train, y_test = train_test_split(X, y, test_size=0.2, random_state=42)\n",
        "\n",
        "# Then you can find constant features on x_train2\n",
        "numeric_cols = x_train2.select_dtypes(include=['number']).columns\n",
        "constant_features2 = [col for col in numeric_cols if x_train2[col].std() == 0]\n",
        "\n",
        "# Drop constant features from both train and test sets\n",
        "x_train2.drop(labels=constant_features2, axis=1, inplace=True)\n",
        "x_test2.drop(labels=constant_features2, axis=1, inplace=True)\n"
      ],
      "metadata": {
        "id": "tdR-yAs0xFMK"
      },
      "execution_count": null,
      "outputs": []
    },
    {
      "cell_type": "markdown",
      "source": [
        "Quasi Constant Features (98% of the values of a column are same or constant)"
      ],
      "metadata": {
        "id": "f7uwqwMXqzjm"
      }
    },
    {
      "cell_type": "code",
      "source": [
        "quasi_constant_feature = []\n",
        "\n",
        "for feature in x_train2.columns:\n",
        "  predominant = (x_train2[feature].value_counts() / np.float64(len(x_train2))).sort_values(ascending=False).values[0]\n",
        "\n",
        "  if predominant > 0.999:\n",
        "    quasi_constant_feature.append(feature)\n",
        "\n",
        "print(len(quasi_constant_feature))"
      ],
      "metadata": {
        "colab": {
          "base_uri": "https://localhost:8080/"
        },
        "id": "N6dp2eyR43lo",
        "outputId": "4a339390-d60b-4a42-a754-94fe85045a48"
      },
      "execution_count": null,
      "outputs": [
        {
          "output_type": "stream",
          "name": "stdout",
          "text": [
            "0\n"
          ]
        }
      ]
    },
    {
      "cell_type": "code",
      "source": [
        "x_train2.drop(labels = quasi_constant_feature , axis=1 , inplace = True)\n",
        "x_test2.drop(labels = quasi_constant_feature , axis=1 , inplace = True)"
      ],
      "metadata": {
        "id": "aWSV3BkExr15"
      },
      "execution_count": null,
      "outputs": []
    },
    {
      "cell_type": "markdown",
      "source": [
        "Duplicated Columns (Two or More Cols having same duplicated values)"
      ],
      "metadata": {
        "id": "UnuNaCLdq9ZX"
      }
    },
    {
      "cell_type": "code",
      "source": [
        "duplicated_feat = []\n",
        "\n",
        "for i in range(0,len(x_train2.columns)):\n",
        "  col_1 = x_train2.columns[i]\n",
        "  for col_2 in x_train2.columns[i+1:]:\n",
        "    if x_train2[col_1].equals(x_train2[col_2]):\n",
        "      duplicated_feat.append(col_2)\n",
        "\n",
        "print(duplicated_feat)"
      ],
      "metadata": {
        "colab": {
          "base_uri": "https://localhost:8080/"
        },
        "id": "C8VCYQfa5d7R",
        "outputId": "b01e46f7-7bfc-434a-9814-a0f8ec8ce720"
      },
      "execution_count": null,
      "outputs": [
        {
          "output_type": "stream",
          "name": "stdout",
          "text": [
            "[]\n"
          ]
        }
      ]
    },
    {
      "cell_type": "code",
      "source": [
        "duplicated_features = list(set(duplicated_feat))\n",
        "x_train2.drop(labels = duplicated_features , axis=1 , inplace = True)\n",
        "x_test2.drop(labels = duplicated_features , axis=1 , inplace = True)"
      ],
      "metadata": {
        "id": "Hpfs_Cwbx5oJ"
      },
      "execution_count": null,
      "outputs": []
    },
    {
      "cell_type": "markdown",
      "source": [
        "Corelation Heat Map"
      ],
      "metadata": {
        "id": "prH3B2YBrGP2"
      }
    },
    {
      "cell_type": "code",
      "source": [
        "numeric_cols = x_train2.select_dtypes(include=['number'])\n",
        "corrmat = numeric_cols.corr()\n",
        "\n",
        "fig, ax = plt.subplots(figsize=(16,16))\n",
        "sns.heatmap(corrmat, annot=True, fmt=\".2f\", cmap='coolwarm')\n",
        "plt.show()\n"
      ],
      "metadata": {
        "colab": {
          "base_uri": "https://localhost:8080/",
          "height": 1000
        },
        "id": "YOOL2-HA5ke5",
        "outputId": "bd13546b-c04f-4e2f-d05c-87958cbc00e5",
        "collapsed": true
      },
      "execution_count": null,
      "outputs": [
        {
          "output_type": "display_data",
          "data": {
            "text/plain": [
              "<Figure size 1600x1600 with 2 Axes>"
            ],
            "image/png": "[encoded data removed]"
          },
          "metadata": {}
        }
      ]
    },
    {
      "cell_type": "code",
      "source": [
        "# Select only numeric columns to avoid errors during corr()\n",
        "x_train_numeric = x_train2.select_dtypes(include=['number'])\n",
        "\n",
        "# Your correlation function\n",
        "def correlation(dataset, threshold):\n",
        "    col_corr = set()\n",
        "    corr_matrix = dataset.corr()\n",
        "    for i in range(len(corr_matrix.columns)):\n",
        "        for j in range(i):\n",
        "            if abs(corr_matrix.iloc[i, j]) > threshold:\n",
        "                colname = corr_matrix.columns[i]\n",
        "                col_corr.add(colname)\n",
        "    return col_corr\n",
        "\n",
        "# Find correlated features with correlation > 0.9\n",
        "corr_features = correlation(x_train_numeric, 0.9)\n",
        "correlated_features = list(set(corr_features))\n",
        "\n",
        "# Print the results\n",
        "print(f\"Number of highly correlated features: {len(correlated_features)}\")\n",
        "print(\"List of correlated features:\")\n",
        "print(correlated_features)\n"
      ],
      "metadata": {
        "colab": {
          "base_uri": "https://localhost:8080/"
        },
        "id": "olz9DBSJyY6A",
        "outputId": "80d1cd40-af7d-4451-dbb1-3ad1428f6108"
      },
      "execution_count": null,
      "outputs": [
        {
          "output_type": "stream",
          "name": "stdout",
          "text": [
            "Number of highly correlated features: 0\n",
            "List of correlated features:\n",
            "[]\n"
          ]
        }
      ]
    },
    {
      "cell_type": "code",
      "source": [
        "x_train2.drop(labels = correlated_features , axis=1 , inplace = True)\n",
        "x_test2.drop(labels = correlated_features , axis=1 , inplace = True)"
      ],
      "metadata": {
        "id": "zjXh7h5ZzKW6"
      },
      "execution_count": null,
      "outputs": []
    },
    {
      "cell_type": "markdown",
      "source": [
        "Mutual Information"
      ],
      "metadata": {
        "id": "Jb1Rbc_KssHT"
      }
    },
    {
      "cell_type": "code",
      "source": [
        "from sklearn.feature_selection import mutual_info_regression\n",
        "from sklearn.preprocessing import LabelEncoder\n",
        "\n",
        "# Drop rows with missing target values\n",
        "df_clean = df2.dropna(subset=['Age'])\n",
        "\n",
        "# Separate features and target\n",
        "X = df_clean.drop(columns=['Age']).copy()\n",
        "Y = df_clean['Age']\n",
        "\n",
        "# Encode categorical columns\n",
        "for col in X.select_dtypes(include=['object', 'category']).columns:\n",
        "    le = LabelEncoder()\n",
        "    X[col] = le.fit_transform(X[col].astype(str))\n",
        "\n",
        "# Fill missing values in features\n",
        "X = X.fillna(0)  # or X.fillna(X.mean())\n",
        "\n",
        "# Calculate mutual information scores\n",
        "mi_scores = mutual_info_regression(X, Y, random_state=42)\n",
        "\n",
        "# Create DataFrame and sort\n",
        "mi_df = pd.DataFrame({'Feature': X.columns, 'Mutual Info Score': mi_scores})\n",
        "mi_df = mi_df.sort_values('Mutual Info Score', ascending=False)\n",
        "\n",
        "print(mi_df)\n"
      ],
      "metadata": {
        "colab": {
          "base_uri": "https://localhost:8080/"
        },
        "id": "x3e8gryLsr2J",
        "outputId": "e07dacd2-6f07-4075-f811-e1292850045a"
      },
      "execution_count": null,
      "outputs": [
        {
          "output_type": "stream",
          "name": "stdout",
          "text": [
            "        Feature  Mutual Info Score\n",
            "6         Parch           0.164853\n",
            "7        Ticket           0.128245\n",
            "8          Fare           0.112697\n",
            "9         Cabin           0.079376\n",
            "2        Pclass           0.065976\n",
            "5         SibSp           0.042232\n",
            "1      Survived           0.033811\n",
            "10     Embarked           0.024064\n",
            "4           Sex           0.015451\n",
            "0   PassengerId           0.006856\n",
            "3          Name           0.002424\n"
          ]
        }
      ]
    },
    {
      "cell_type": "markdown",
      "source": [
        "Chi Square Test to select useful features"
      ],
      "metadata": {
        "id": "pSKKnN9s3vmP"
      }
    },
    {
      "cell_type": "code",
      "source": [
        "from sklearn.preprocessing import LabelEncoder\n",
        "from sklearn.feature_selection import chi2\n",
        "import pandas as pd\n",
        "\n",
        "# Assume df2 is your original DataFrame\n",
        "\n",
        "# Drop rows where target is NaN\n",
        "df_clean = df2.dropna(subset=['Age'])\n",
        "\n",
        "# Separate features and target\n",
        "X = df_clean.drop(columns=['Age']).copy()\n",
        "Y = df_clean['Age']\n",
        "\n",
        "# Convert Age into categories (5 bins)\n",
        "Y_cat = pd.cut(Y, bins=5, labels=False)\n",
        "\n",
        "# Encode categorical features in X\n",
        "label_encoders = {}\n",
        "for col in X.columns:\n",
        "    if X[col].dtype == 'object':\n",
        "        le = LabelEncoder()\n",
        "        X[col] = le.fit_transform(X[col].astype(str))\n",
        "        label_encoders[col] = le\n",
        "\n",
        "# Replace negative values with 0 (required by chi2)\n",
        "X = X.clip(lower=0)\n",
        "\n",
        "# Handle missing values in features (fill NaNs with 0)\n",
        "X = X.fillna(0)\n",
        "\n",
        "# Run chi2\n",
        "chi_score, p_values = chi2(X, Y_cat)\n",
        "\n",
        "# Create DataFrame of scores\n",
        "chi_df = pd.DataFrame({\n",
        "    'Feature': X.columns,\n",
        "    'Chi Square Score': chi_score,\n",
        "    'P Value': p_values\n",
        "})\n",
        "\n",
        "# Sort by score descending\n",
        "chi_df = chi_df.sort_values('Chi Square Score', ascending=False)\n",
        "\n",
        "# Add decision column based on p-value threshold\n",
        "chi_df['Decision'] = chi_df['P Value'].apply(lambda p: 'Reject Null Hypothesis' if p < 0.05 else 'Accept Null Hypothesis')\n",
        "\n",
        "print(chi_df)\n"
      ],
      "metadata": {
        "colab": {
          "base_uri": "https://localhost:8080/"
        },
        "id": "k5VGBA2l0XcJ",
        "outputId": "7991d607-d9c4-4a10-a2e5-ad0be683dc3c"
      },
      "execution_count": null,
      "outputs": [
        {
          "output_type": "stream",
          "name": "stdout",
          "text": [
            "        Feature  Chi Square Score        P Value                Decision\n",
            "8          Fare       1292.319066  1.539898e-278  Reject Null Hypothesis\n",
            "7        Ticket       1091.905511  4.302101e-235  Reject Null Hypothesis\n",
            "3          Name        772.599105  6.611242e-166  Reject Null Hypothesis\n",
            "9         Cabin        501.796864  2.737921e-107  Reject Null Hypothesis\n",
            "5         SibSp        255.262358   4.784422e-54  Reject Null Hypothesis\n",
            "0   PassengerId        180.455871   5.951595e-38  Reject Null Hypothesis\n",
            "6         Parch        150.316810   1.741154e-31  Reject Null Hypothesis\n",
            "2        Pclass         33.404809   9.868930e-07  Reject Null Hypothesis\n",
            "1      Survived          9.043864   6.001240e-02  Accept Null Hypothesis\n",
            "4           Sex          4.987763   2.885554e-01  Accept Null Hypothesis\n",
            "10     Embarked          2.388958   6.646237e-01  Accept Null Hypothesis\n"
          ]
        }
      ]
    },
    {
      "cell_type": "markdown",
      "source": [
        "ANOVA"
      ],
      "metadata": {
        "id": "Xe7Jumuh31hu"
      }
    },
    {
      "cell_type": "code",
      "source": [
        "from sklearn.preprocessing import LabelEncoder\n",
        "from sklearn.feature_selection import f_classif\n",
        "import pandas as pd\n",
        "\n",
        "# Drop rows where target is NaN\n",
        "df_clean = df2.dropna(subset=['Age'])\n",
        "\n",
        "# Separate features and target\n",
        "X = df_clean.drop(columns=['Age'])\n",
        "y = df_clean['Age']\n",
        "\n",
        "# Encode target if categorical\n",
        "if y.dtype == 'object':\n",
        "    y = LabelEncoder().fit_transform(y.astype(str))\n",
        "\n",
        "# Select only numeric features\n",
        "X_num = X.select_dtypes(include=['number']).copy()\n",
        "\n",
        "# Fill NaNs in numeric features with mean or 0 (you can choose)\n",
        "X_num = X_num.fillna(X_num.mean())\n",
        "\n",
        "# Perform ANOVA F-test\n",
        "f_scores, p_values = f_classif(X_num, y)\n",
        "\n",
        "# Create DataFrame with results\n",
        "f_df = pd.DataFrame({'Feature': X_num.columns, 'F-Score': f_scores, 'P-Value': p_values})\n",
        "\n",
        "# Sort by F-Score descending\n",
        "f_df = f_df.sort_values('F-Score', ascending=False)\n",
        "\n",
        "print(f_df)\n"
      ],
      "metadata": {
        "colab": {
          "base_uri": "https://localhost:8080/"
        },
        "id": "Q2LL2DHx2h6O",
        "outputId": "d8758b47-d5f4-41d5-f0ef-cdd8a45fd425"
      },
      "execution_count": null,
      "outputs": [
        {
          "output_type": "stream",
          "name": "stdout",
          "text": [
            "       Feature   F-Score       P-Value\n",
            "3        SibSp  3.363287  1.675083e-18\n",
            "4        Parch  2.575085  2.133242e-11\n",
            "2       Pclass  2.396525  7.403295e-10\n",
            "0  PassengerId  1.330708  3.081990e-02\n",
            "1     Survived  1.228912  8.904782e-02\n",
            "5         Fare  0.886992  7.543868e-01\n"
          ]
        }
      ]
    },
    {
      "cell_type": "code",
      "source": [
        "# Filter features with p-value less than 0.05 (significant features)\n",
        "significant_features = f_df[f_df['P-Value'] < 0.05]['Feature'].tolist()\n",
        "\n",
        "print(f\"Selected features based on p-value < 0.05: {significant_features}\")\n",
        "\n",
        "# Now keep only these features in your X_num\n",
        "X_num_filtered = X_num[significant_features]\n",
        "\n",
        "# If you want, you can also filter the original dataframe like this:\n",
        "X_filtered = X[significant_features]\n",
        "\n",
        "# Your target y remains the same\n"
      ],
      "metadata": {
        "colab": {
          "base_uri": "https://localhost:8080/"
        },
        "id": "WcWxOa1VM65C",
        "outputId": "8f4b9683-3814-47a9-b279-72785d7f1d73"
      },
      "execution_count": null,
      "outputs": [
        {
          "output_type": "stream",
          "name": "stdout",
          "text": [
            "Selected features based on p-value < 0.05: ['SibSp', 'Parch', 'Pclass', 'PassengerId']\n"
          ]
        }
      ]
    },
    {
      "cell_type": "code",
      "source": [
        "# Add a decision column based on p-value threshold 0.05\n",
        "f_df['Decision'] = f_df['P-Value'].apply(lambda p: 'Reject Null Hypothesis' if p < 0.05 else 'Accept Null Hypothesis')\n",
        "\n",
        "print(f_df[['Feature', 'F-Score', 'P-Value', 'Decision']])\n"
      ],
      "metadata": {
        "colab": {
          "base_uri": "https://localhost:8080/"
        },
        "id": "wPqKueW8NClN",
        "outputId": "c52f37ce-5ab3-4d38-b71c-2f938da86611"
      },
      "execution_count": null,
      "outputs": [
        {
          "output_type": "stream",
          "name": "stdout",
          "text": [
            "       Feature   F-Score       P-Value                Decision\n",
            "3        SibSp  3.363287  1.675083e-18  Reject Null Hypothesis\n",
            "4        Parch  2.575085  2.133242e-11  Reject Null Hypothesis\n",
            "2       Pclass  2.396525  7.403295e-10  Reject Null Hypothesis\n",
            "0  PassengerId  1.330708  3.081990e-02  Reject Null Hypothesis\n",
            "1     Survived  1.228912  8.904782e-02  Accept Null Hypothesis\n",
            "5         Fare  0.886992  7.543868e-01  Accept Null Hypothesis\n"
          ]
        }
      ]
    }
  ]
}